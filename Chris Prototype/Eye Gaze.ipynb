{
 "cells": [
  {
   "cell_type": "code",
   "execution_count": 1,
   "id": "48ca103d",
   "metadata": {},
   "outputs": [],
   "source": [
    "#library to read csv files\n",
    "import csv\n",
    "import json\n",
    "import webbrowser\n",
    "import subprocess\n",
    "import sys\n",
    "participantList = [1, 2, 3, 4, 5, 6, 7, 10, 11, 12, 13, 14, 15, 16, 17, 18, 19, 20, 21, 23, 24, 25, 27, 28, 30, 31, 32, 33, 34, 35, 36]"
   ]
  },
  {
   "cell_type": "code",
   "execution_count": 2,
   "id": "639173f5",
   "metadata": {},
   "outputs": [],
   "source": [
    "def reformatAllFileTypes(fileTypeName):\n",
    "    for i in participantList:\n",
    "        totalData = []\n",
    "        inputFileName = 'Archive\\p'+ str(i) + '\\p'+ str(i) + \".\"+ fileTypeName + '.txt'\n",
    "        outputFileName = 'p'+ str(i) + \".\"+ fileTypeName + '.csv'\n",
    "        try:\n",
    "            with open(inputFileName) as fd:\n",
    "                rd = csv.reader(fd, delimiter=\"\\t\", quotechar='\"')\n",
    "                for row in rd:\n",
    "                    totalData.append(row)\n",
    "        except:\n",
    "            continue\n",
    "        with open(outputFileName, 'w') as file:\n",
    "            file.write(\"%s,%s,%s,%s,%s\\n\"%('number','time','size','x','value'))\n",
    "            for row in totalData:\n",
    "                file.write(\"%s,%s,%s,%s,%s\\n\"%(row[0],row[1],row[2],row[3],row[4]))"
   ]
  },
  {
   "cell_type": "code",
   "execution_count": 3,
   "id": "7cd2f4b6",
   "metadata": {},
   "outputs": [],
   "source": [
    "#function that opens a localhost server on default port 8000;Tries different python server text format\n",
    "def openSubprocess():\n",
    "    #try blocks try to assign subprocess to p; if assignment fails prints error message; else prints success message\n",
    "    #and returns subprocess\n",
    "    try:\n",
    "        p = subprocess.Popen(['python3', '-m', 'http.server'])\n",
    "    except:\n",
    "        print(\"Python3 server opening 1 failed\")\n",
    "    else:\n",
    "        print(\"Python3 server opening 1 succeeded\")\n",
    "        return p\n",
    "    try:\n",
    "        p = subprocess.Popen(['python', '-m', 'http.server'])\n",
    "    except:\n",
    "        print(\"Python3 server opening 2 failed\")\n",
    "    else:\n",
    "        print(\"Python3 server opening 2 succeeded\")\n",
    "        return p\n",
    "    try:\n",
    "        p = subprocess.Popen(['py', '-3', '-m', 'http.server'])\n",
    "    except:\n",
    "        print(\"Python3 server opening 3 failed\")\n",
    "    else:\n",
    "        print(\"Python3 server opening 3 succeeded\")\n",
    "        return p"
   ]
  },
  {
   "cell_type": "code",
   "execution_count": 4,
   "id": "2550f4cb",
   "metadata": {},
   "outputs": [
    {
     "name": "stdout",
     "output_type": "stream",
     "text": [
      "Python3 server opening 1 failed\n",
      "Python3 server opening 2 succeeded\n"
     ]
    }
   ],
   "source": [
    "reformatAllFileTypes(\"graphFXD\")\n",
    "reformatAllFileTypes(\"treeFXD\")\n",
    "\n",
    "#calls openSubprocess to create localhost server\n",
    "p = openSubprocess()\n",
    "#if none of the servers get started exits the program\n",
    "if p is None:\n",
    "    sys.exit(\"No server started\")"
   ]
  },
  {
   "cell_type": "code",
   "execution_count": 5,
   "id": "212d73b3",
   "metadata": {},
   "outputs": [
    {
     "name": "stdout",
     "output_type": "stream",
     "text": [
      "Enter a participant number, continue, or exit\n",
      "1\n",
      "added participant 1\n",
      "Enter a participant number, continue, or exit\n",
      "2\n",
      "added participant 2\n",
      "Enter a participant number, continue, or exit\n",
      "3\n",
      "added participant 3\n",
      "Enter a participant number, continue, or exit\n",
      "continue\n",
      "left loop\n",
      "Enter a participant number, continue, or exit\n",
      "exit\n",
      "exit program\n"
     ]
    },
    {
     "ename": "SystemExit",
     "evalue": "",
     "output_type": "error",
     "traceback": [
      "An exception has occurred, use %tb to see the full traceback.\n",
      "\u001b[1;31mSystemExit\u001b[0m\n"
     ]
    },
    {
     "name": "stderr",
     "output_type": "stream",
     "text": [
      "C:\\Users\\017620991\\Anaconda3\\lib\\site-packages\\IPython\\core\\interactiveshell.py:3377: UserWarning: To exit: use 'exit', 'quit', or Ctrl-D.\n",
      "  warn(\"To exit: use 'exit', 'quit', or Ctrl-D.\", stacklevel=1)\n"
     ]
    }
   ],
   "source": [
    "userInput = \"\"\n",
    "while userInput != \"exit\":\n",
    "    participantsToShow = []\n",
    "    while userInput != \"continue\" or userInput != \"exit\":\n",
    "        userInput = input(\"Enter a participant number, continue, or exit\\n\")\n",
    "        if userInput == \"continue\":\n",
    "            break\n",
    "        if userInput == \"exit\":\n",
    "            print(\"exit program\")\n",
    "            p.kill()\n",
    "            sys.exit()\n",
    "        elif userInput.isdigit():\n",
    "            participantNumber = int(userInput)\n",
    "            if participantNumber in participantList:\n",
    "                if participantNumber not in participantsToShow:\n",
    "                    participantsToShow.append(participantNumber)\n",
    "                    print(\"added participant\", participantNumber)\n",
    "                else:\n",
    "                    print(\"participant \", participantNumber, \"is already added\")\n",
    "            else:\n",
    "                print(userInput, \"is not a valid participant number\")\n",
    "        else:\n",
    "            print(userInput, \"is not number\")\n",
    "    json_object = json.dumps(participantsToShow)\n",
    "\n",
    "    # Writing to sample.json\n",
    "    with open(\"participantsToShow.json\", \"w\") as outfile:\n",
    "        json.dump(participantsToShow, outfile)\n",
    "\n",
    "    webbrowser.open_new_tab('http://localhost:8000/Eye Gaze.html')\n",
    "p.kill()"
   ]
  }
 ],
 "metadata": {
  "kernelspec": {
   "display_name": "Python 3 (ipykernel)",
   "language": "python",
   "name": "python3"
  },
  "language_info": {
   "codemirror_mode": {
    "name": "ipython",
    "version": 3
   },
   "file_extension": ".py",
   "mimetype": "text/x-python",
   "name": "python",
   "nbconvert_exporter": "python",
   "pygments_lexer": "ipython3",
   "version": "3.9.12"
  }
 },
 "nbformat": 4,
 "nbformat_minor": 5
}
