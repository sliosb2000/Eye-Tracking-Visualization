{
 "cells": [
  {
   "cell_type": "code",
   "execution_count": 1,
   "id": "48ca103d",
   "metadata": {},
   "outputs": [],
   "source": [
    "#library to read csv files\n",
    "import csv\n",
    "import json\n",
    "import webbrowser\n",
    "import subprocess\n",
    "import sys\n",
    "participantList = [1, 2, 3, 4, 5, 6, 7, 10, 11, 12, 13, 14, 15, 16, 17, 18, 19, 20, 21, 23, 24, 25, 27, 28, 30, 31, 32, 33, 34, 35, 36]"
   ]
  },
  {
   "cell_type": "code",
   "execution_count": 2,
   "id": "639173f5",
   "metadata": {},
   "outputs": [],
   "source": [
    "def reformatAllFileTypes(fileTypeName):\n",
    "    totalData = []\n",
    "    for i in participantList:\n",
    "        inputFileName = 'Archive\\p'+ str(i) + '\\p'+ str(i) + \".\"+ fileTypeName + '.txt'\n",
    "        with open(inputFileName) as fd:\n",
    "            rd = csv.reader(fd, delimiter=\"\\t\", quotechar='\"')\n",
    "            for row in rd:\n",
    "                row.append(i)\n",
    "                totalData.append(row)\n",
    "    with open(\"CombinedArchive.csv\", 'w') as file:\n",
    "        file.write(\"%s,%s,%s,%s,%s,%s\\n\"%('number','time','size','x','value','participant'))\n",
    "        for row in totalData:\n",
    "            file.write(\"%s,%s,%s,%s,%s,%s\\n\"%(row[0],row[1],row[2],row[3],row[4],row[5]))"
   ]
  },
  {
   "cell_type": "code",
   "execution_count": 3,
   "id": "7cd2f4b6",
   "metadata": {},
   "outputs": [],
   "source": [
    "#function that opens a localhost server on default port 8000;Tries different python server text format\n",
    "def openSubprocess():\n",
    "    #try blocks try to assign subprocess to p; if assignment fails prints error message; else prints success message\n",
    "    #and returns subprocess\n",
    "    try:\n",
    "        p = subprocess.Popen(['python3', '-m', 'http.server'])\n",
    "    except:\n",
    "        print(\"Python3 server opening 1 failed\")\n",
    "    else:\n",
    "        print(\"Python3 server opening 1 succeeded\")\n",
    "        return p\n",
    "    try:\n",
    "        p = subprocess.Popen(['python', '-m', 'http.server'])\n",
    "    except:\n",
    "        print(\"Python3 server opening 2 failed\")\n",
    "    else:\n",
    "        print(\"Python3 server opening 2 succeeded\")\n",
    "        return p\n",
    "    try:\n",
    "        p = subprocess.Popen(['py', '-3', '-m', 'http.server'])\n",
    "    except:\n",
    "        print(\"Python3 server opening 3 failed\")\n",
    "    else:\n",
    "        print(\"Python3 server opening 3 succeeded\")\n",
    "        return p"
   ]
  },
  {
   "cell_type": "code",
   "execution_count": 4,
   "id": "43514c9f",
   "metadata": {},
   "outputs": [],
   "source": [
    "reformatAllFileTypes(\"graphFXD\")"
   ]
  },
  {
   "cell_type": "code",
   "execution_count": null,
   "id": "480eb0fa",
   "metadata": {},
   "outputs": [],
   "source": []
  }
 ],
 "metadata": {
  "kernelspec": {
   "display_name": "Python 3 (ipykernel)",
   "language": "python",
   "name": "python3"
  },
  "language_info": {
   "codemirror_mode": {
    "name": "ipython",
    "version": 3
   },
   "file_extension": ".py",
   "mimetype": "text/x-python",
   "name": "python",
   "nbconvert_exporter": "python",
   "pygments_lexer": "ipython3",
   "version": "3.9.12"
  }
 },
 "nbformat": 4,
 "nbformat_minor": 5
}
